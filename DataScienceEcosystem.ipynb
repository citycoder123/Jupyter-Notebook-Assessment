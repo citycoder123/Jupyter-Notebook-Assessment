{
 "cells": [
  {
   "cell_type": "markdown",
   "id": "c730f1b5-ce83-492d-a4b6-fb7504e2883e",
   "metadata": {
    "tags": []
   },
   "source": [
    "# Data Science Tools and Ecosystem"
   ]
  },
  {
   "cell_type": "markdown",
   "id": "3984bae8-e873-4a47-a37c-321c9b068319",
   "metadata": {
    "tags": []
   },
   "source": [
    "## Author\n",
    "James Hutchens"
   ]
  },
  {
   "cell_type": "markdown",
   "id": "06d05b47-0fbb-4a7a-a5e7-de028219ff2f",
   "metadata": {
    "tags": []
   },
   "source": [
    "In this notebook, Data Science Tools and Ecosystem are summarized."
   ]
  },
  {
   "cell_type": "markdown",
   "id": "8614ec02-1dc8-47d8-ba5c-71225d8d8697",
   "metadata": {},
   "source": [
    "**Objectives:**<br>\n",
    "\n",
    "<ul>\n",
    "<li>List popular languages for Data Science</li>\n",
    "<li>List popular libraries used by Data Scientists</li>\n",
    "<li>Demonstrate arithmetic expressions in Python</li>\n",
    "</ul>"
   ]
  },
  {
   "cell_type": "markdown",
   "id": "e6dc77a3-793e-4b2b-bb7f-9c1c2e310853",
   "metadata": {
    "tags": []
   },
   "source": [
    "Some of the popular languages that Data Scientists use are:<br>\n",
    "<ol>\n",
    "<li>R</li>\n",
    "<li>Python</li>\n",
    "<li>SQL</li>\n",
    "</ol>"
   ]
  },
  {
   "cell_type": "markdown",
   "id": "a810c30c-5678-4d09-8915-b452a8705c71",
   "metadata": {
    "tags": []
   },
   "source": [
    "Some of the commonly used libraries used by Data Scientists include:<br>\n",
    "<ol>\n",
    "<li>Plotly</li>\n",
    "<li>SciPy</li>\n",
    "<li>Pandas</li>\n",
    "</ol>"
   ]
  },
  {
   "cell_type": "markdown",
   "id": "afa0d46f-1243-4c0d-91e0-f4d8d146ec43",
   "metadata": {
    "tags": []
   },
   "source": [
    "|<b> Data Science Tools </b>|\n",
    "|---------------------------|\n",
    "|Jupyter Notebook|\n",
    "|Apache Spark|\n",
    "|Pandas|"
   ]
  },
  {
   "cell_type": "markdown",
   "id": "981e57eb-f4cc-4ab6-b83f-65c7fdde6851",
   "metadata": {},
   "source": [
    "### Below are a few examples of evaluating arithmetic expressions in Python."
   ]
  },
  {
   "cell_type": "markdown",
   "id": "c360e52f-5645-4ce2-bad9-39ed21d5d493",
   "metadata": {
    "tags": []
   },
   "source": [
    "This a simple arithmetic expression to mutiply then add integers"
   ]
  },
  {
   "cell_type": "code",
   "execution_count": 18,
   "id": "c616b38e-2a52-4e77-8c41-05e0bddd243d",
   "metadata": {
    "tags": []
   },
   "outputs": [
    {
     "data": {
      "text/plain": [
       "17"
      ]
     },
     "execution_count": 18,
     "metadata": {},
     "output_type": "execute_result"
    }
   ],
   "source": [
    "(3*4)+5"
   ]
  },
  {
   "cell_type": "markdown",
   "id": "43e19c81-ad61-4e08-a085-e789078be105",
   "metadata": {
    "tags": []
   },
   "source": [
    "This will convert 200 minutes to hours by diving by 60"
   ]
  },
  {
   "cell_type": "code",
   "execution_count": 20,
   "id": "20514af5-f0c6-4185-9cd8-c37a46351507",
   "metadata": {
    "tags": []
   },
   "outputs": [
    {
     "data": {
      "text/plain": [
       "3.3333333333333335"
      ]
     },
     "execution_count": 20,
     "metadata": {},
     "output_type": "execute_result"
    }
   ],
   "source": [
    "200/60"
   ]
  }
 ],
 "metadata": {
  "kernelspec": {
   "display_name": "Python",
   "language": "python",
   "name": "conda-env-python-py"
  },
  "language_info": {
   "codemirror_mode": {
    "name": "ipython",
    "version": 3
   },
   "file_extension": ".py",
   "mimetype": "text/x-python",
   "name": "python",
   "nbconvert_exporter": "python",
   "pygments_lexer": "ipython3",
   "version": "3.7.12"
  }
 },
 "nbformat": 4,
 "nbformat_minor": 5
}
